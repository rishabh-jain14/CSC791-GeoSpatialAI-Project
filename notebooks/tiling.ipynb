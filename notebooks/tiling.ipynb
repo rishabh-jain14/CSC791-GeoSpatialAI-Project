{
 "cells": [
  {
   "cell_type": "code",
   "execution_count": null,
   "metadata": {},
   "outputs": [],
   "source": [
    "import os\n",
    "import numpy as np\n",
    "import torch\n",
    "from pathlib import Path\n",
    "from matplotlib import pyplot as plt"
   ]
  },
  {
   "cell_type": "code",
   "execution_count": null,
   "metadata": {},
   "outputs": [],
   "source": [
    "cwd = Path(os.getcwd())\n",
    "os.chdir(str(cwd.parent))\n",
    "print(os.getcwd())"
   ]
  },
  {
   "cell_type": "code",
   "execution_count": null,
   "metadata": {},
   "outputs": [],
   "source": [
    "from floods.trainer import smooth_tiling\n",
    "import importlib\n",
    "importlib.reload(smooth_tiling)"
   ]
  },
  {
   "cell_type": "code",
   "execution_count": null,
   "metadata": {},
   "outputs": [],
   "source": [
    "image = np.random.rand(512, 512, 3)\n",
    "plt.figure(figsize=(10, 10))\n",
    "plt.imshow(image)"
   ]
  },
  {
   "cell_type": "code",
   "execution_count": null,
   "metadata": {},
   "outputs": [],
   "source": [
    "def predict_callback(patch: torch.Tensor):\n",
    "    \"\"\"Receives a batch with size [tiles, window, window, channels]\n",
    "    Returns a batch with size [tiles, window, window, classes]\n",
    "    \"\"\"\n",
    "    res = torch.zeros_like(patch)\n",
    "    for i in range(patch.shape[0]):\n",
    "        rgb = (torch.rand(3) - 0.5).reshape(3, 1, 1)\n",
    "        res[i] = torch.clip(patch[i] - rgb, 0, 1)\n",
    "    return res.permute(0, 2, 3, 1)"
   ]
  },
  {
   "cell_type": "code",
   "execution_count": null,
   "metadata": {},
   "outputs": [],
   "source": [
    "image = torch.from_numpy(image)"
   ]
  },
  {
   "cell_type": "code",
   "execution_count": null,
   "metadata": {},
   "outputs": [],
   "source": [
    "prediction = smooth_tiling.predict_smooth_windowing(image=image, tile_size=128, subdivisions=4, num_classes=3, prediction_fn=predict_callback, batch_size=5, mirrored=True)"
   ]
  },
  {
   "cell_type": "code",
   "execution_count": null,
   "metadata": {},
   "outputs": [],
   "source": [
    "result = prediction.numpy()\n",
    "plt.figure(figsize=(10, 10))\n",
    "plt.imshow(result)"
   ]
  }
 ],
 "metadata": {
  "interpreter": {
   "hash": "61bd0401774e7981c2ad7ca0754761d58a145d15f3fee780bc248b1d208f4211"
  },
  "kernelspec": {
   "display_name": "Python 3.8.10 64-bit ('.venv': venv)",
   "language": "python",
   "name": "python3"
  },
  "language_info": {
   "codemirror_mode": {
    "name": "ipython",
    "version": 3
   },
   "file_extension": ".py",
   "mimetype": "text/x-python",
   "name": "python",
   "nbconvert_exporter": "python",
   "pygments_lexer": "ipython3",
   "version": "3.8.10"
  },
  "orig_nbformat": 4
 },
 "nbformat": 4,
 "nbformat_minor": 2
}
