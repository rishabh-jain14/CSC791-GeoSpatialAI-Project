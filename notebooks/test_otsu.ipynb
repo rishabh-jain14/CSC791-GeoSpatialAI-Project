{
 "cells": [
  {
   "cell_type": "markdown",
   "id": "14efc912",
   "metadata": {},
   "source": [
    "## Baseline - Otsu thresholding"
   ]
  },
  {
   "cell_type": "code",
   "execution_count": 1,
   "id": "d710f318",
   "metadata": {},
   "outputs": [],
   "source": [
    "import os\n",
    "from pathlib import Path\n",
    "from torch.utils.data import DataLoader\n",
    "\n",
    "import cv2 as cv\n",
    "import numpy as np\n",
    "from matplotlib import pyplot as plt\n",
    "from matplotlib.pyplot import figure\n",
    "from sklearn.metrics import precision_score, recall_score, f1_score, jaccard_score\n",
    "import torch\n",
    "from typing import List, Tuple"
   ]
  },
  {
   "cell_type": "code",
   "execution_count": null,
   "id": "7fc23099",
   "metadata": {},
   "outputs": [],
   "source": [
    "cwd = Path(os.getcwd())\n",
    "os.chdir(str(cwd.parent))\n",
    "print(os.getcwd())"
   ]
  },
  {
   "cell_type": "code",
   "execution_count": 3,
   "id": "fda2b0d6",
   "metadata": {},
   "outputs": [],
   "source": [
    "from floods.datasets.flood import FloodDataset\n",
    "from floods.prepare import eval_transforms, inverse_transform\n",
    "from tqdm import tqdm"
   ]
  },
  {
   "cell_type": "code",
   "execution_count": 4,
   "id": "7155720e",
   "metadata": {},
   "outputs": [],
   "source": [
    "dataset_cls = FloodDataset\n",
    "mean = dataset_cls.mean()[:2]\n",
    "std = dataset_cls.std()[:2]\n",
    "\n",
    "test_transform = eval_transforms(mean=mean,\n",
    "                                    std=std,\n",
    "                                    clip_max=30,\n",
    "                                    clip_min=-30)\n",
    "# create the test dataset\n",
    "test_dataset = dataset_cls(path=Path('/mnt/data1/projects/shelter/flood/tiled'),\n",
    "                            subset=\"test\",\n",
    "                            include_dem=False,\n",
    "                            normalization=test_transform)\n",
    "\n",
    "loader = DataLoader(test_dataset, batch_size=1, num_workers=4, pin_memory=False, shuffle=False)\n",
    "invert = inverse_transform(mean=FloodDataset.mean(), std=FloodDataset.std())"
   ]
  },
  {
   "cell_type": "code",
   "execution_count": 5,
   "id": "a9326e89",
   "metadata": {},
   "outputs": [],
   "source": [
    "def plot_images(output: List[np.array], titles: List[str], figsize: Tuple[int, int] = (10, 10)) -> None:\n",
    "    figure(figsize=figsize, dpi=80)\n",
    "    \"\"\"Plot a list of images with titles\"\"\"\n",
    "    for j in range(len(output)):\n",
    "        plt.subplot(1, len(output), j + 1), plt.imshow(output[j], 'gray')\n",
    "        plt.title(titles[j])\n",
    "        plt.xticks([]), plt.yticks([])\n",
    "    plt.show()\n"
   ]
  },
  {
   "cell_type": "code",
   "execution_count": 19,
   "id": "ac3291bb",
   "metadata": {},
   "outputs": [],
   "source": [
    "def minmaxscaler_image(x: np.array, xmin: float, xmax: float, scale: float = 1.0, dtype=np.float32) -> np.array:\n",
    "    x = (x - xmin) / (xmax - xmin)\n",
    "    if scale is not None:\n",
    "        x *=scale\n",
    "    return x.astype(dtype)"
   ]
  },
  {
   "cell_type": "code",
   "execution_count": 30,
   "id": "7761341d",
   "metadata": {},
   "outputs": [],
   "source": [
    "def preprocess_images(images: torch.Tensor, scale: float = 1.0) -> np.array:\n",
    "    images = images.numpy()\n",
    "\n",
    "    vv_img = images[0, :, :]\n",
    "    vh_img = images[1, :, :]\n",
    "\n",
    "    vv_img = minmaxscaler_image(vv_img, vv_img.min(), vv_img.max(), scale=scale)\n",
    "    vh_img = minmaxscaler_image(vh_img, vh_img.min(), vh_img.max(), scale=scale)\n",
    "\n",
    "    return vv_img, vh_img"
   ]
  },
  {
   "cell_type": "code",
   "execution_count": null,
   "id": "91f2328b",
   "metadata": {},
   "outputs": [],
   "source": [
    "from skimage.filters import threshold_otsu\n",
    "from skimage.restoration.non_local_means import denoise_nl_means\n",
    "from skimage.morphology import opening\n",
    "\n",
    "images, label = test_dataset[124]\n",
    "label = label.squeeze(0)\n",
    "mask = (label.flatten() != 255)\n",
    "images = images.squeeze(0)\n",
    "vv, vh = preprocess_images(images, scale=255.0)\n",
    "\n",
    "image = vh\n",
    "image = denoise_nl_means(image, preserve_range=True)\n",
    "# automated threshold definition is not ideal\n",
    "thresh = threshold_otsu(image)\n",
    "binary = image < thresh\n",
    "binary = opening(binary)\n",
    "\n",
    "fig, axes = plt.subplots(ncols=3, figsize=(24, 7.5))\n",
    "ax = axes.ravel()\n",
    "ax[0] = plt.subplot(1, 3, 1)\n",
    "ax[1] = plt.subplot(1, 3, 2)\n",
    "ax[2] = plt.subplot(1, 3, 3, sharex=ax[0], sharey=ax[0])\n",
    "\n",
    "ax[0].imshow(image, cmap=plt.cm.gray)\n",
    "ax[0].set_title('Original')\n",
    "ax[0].axis('off')\n",
    "\n",
    "ax[1].hist(image.ravel(), bins=256)\n",
    "ax[1].set_title(f'Histogram: {thresh}')\n",
    "ax[1].axvline(thresh, color='r')\n",
    "\n",
    "ax[2].imshow(binary, cmap=plt.cm.gray)\n",
    "ax[2].set_title('Thresholded')\n",
    "ax[2].axis('off')\n",
    "\n",
    "plt.show()"
   ]
  },
  {
   "cell_type": "code",
   "execution_count": null,
   "id": "55784ef4",
   "metadata": {},
   "outputs": [],
   "source": [
    "titles = ['mask', 'vv', 'vh', 'pred_mean_vv_vh', 'pred_gaussian_vv_vh', 'pred_otsu_vv_vh', 'pred_otsu_gaussian_vv_vh']\n",
    "\n",
    "for i, (images, label) in tqdm(enumerate(loader)):\n",
    "    \n",
    "    label = label.squeeze(0)\n",
    "    mask = (label.flatten() != 255)\n",
    "    images = images.squeeze(0)\n",
    "\n",
    "    vv_img, vh_img = preprocess_images(images)\n",
    "    pred_mean, pred_gauss, pred_otsu, pred_otsu_gauss = compute_multiple_thresholds(vv_img, vh_img)\n",
    "\n",
    "    output = [label, vv_img, vh_img, pred_mean, pred_gauss, pred_otsu, pred_otsu_gauss]\n",
    "\n",
    "    plot_images(output, titles, (16,20))\n",
    "    \n",
    "    if(i == 4):\n",
    "        break\n"
   ]
  },
  {
   "cell_type": "code",
   "execution_count": null,
   "id": "9b38d4f4",
   "metadata": {},
   "outputs": [],
   "source": [
    "# manually fixed after evaluating on a batch of images\n",
    "thresh = 4\n",
    "\n",
    "prec_scores = np.zeros(test_dataset.__len__())\n",
    "recall_scores = np.zeros(test_dataset.__len__())\n",
    "f1_scores = np.zeros(test_dataset.__len__())\n",
    "bg_f1_scores = np.zeros(test_dataset.__len__())\n",
    "iou_scores = np.zeros(test_dataset.__len__())\n",
    "bg_iou_scores = np.zeros(test_dataset.__len__())\n",
    "\n",
    "for i, (images, label) in tqdm(enumerate(loader)):\n",
    "\n",
    "    label = label.squeeze(0)\n",
    "    mask = (label.flatten() != 255)\n",
    "    images = images.squeeze(0)\n",
    "\n",
    "    vv, vh = preprocess_images(images, scale=255.0)\n",
    "\n",
    "    image_vh = denoise_nl_means(vh, preserve_range=True)\n",
    "    image_vv = denoise_nl_means(vv, preserve_range=True)\n",
    "\n",
    "    binary_vh = image_vh < thresh\n",
    "    binary_vv = image_vv < thresh\n",
    "    binary = (binary_vh * binary_vv).astype(np.uint8)\n",
    "    binary = opening(binary)\n",
    "\n",
    "    to_save = (binary * 255).astype(np.uint8)\n",
    "    plt.imsave(f\"outputs/otsu/{i}.png\",\n",
    "               to_save,\n",
    "               cmap='gray')\n",
    "\n",
    "    label = label.flatten()[mask]\n",
    "    binary = binary.flatten()[mask]\n",
    "\n",
    "    prec_scores[i] = precision_score(y_true=label, y_pred=binary)\n",
    "    recall_scores[i] = recall_score(y_true=label, y_pred=binary)\n",
    "    f1_scores[i] = f1_score(y_true=label, y_pred=binary)\n",
    "    bg_f1_scores[i] = f1_score(y_true=label, y_pred=binary, pos_label=0)\n",
    "    iou_scores[i] = jaccard_score(y_true=label, y_pred=binary)\n",
    "    bg_iou_scores[i] = jaccard_score(y_true=label, y_pred=binary, pos_label=0)\n",
    "\n",
    "\n",
    "print(f\"precision: {np.mean(prec_scores)}\")\n",
    "print(f\"recall: {np.mean(recall_scores)}\")\n",
    "print(f\"f1: {np.mean(f1_scores)}\")\n",
    "print(f\"bg_f1: {np.mean(bg_f1_scores)}\")\n",
    "print(f\"iou: {np.mean(iou_scores)}\")\n",
    "print(f\"bg_iou: {np.mean(bg_iou_scores)}\")"
   ]
  }
 ],
 "metadata": {
  "kernelspec": {
   "display_name": "Python 3",
   "language": "python",
   "name": "python3"
  },
  "language_info": {
   "codemirror_mode": {
    "name": "ipython",
    "version": 3
   },
   "file_extension": ".py",
   "mimetype": "text/x-python",
   "name": "python",
   "nbconvert_exporter": "python",
   "pygments_lexer": "ipython3",
   "version": "3.8.10"
  }
 },
 "nbformat": 4,
 "nbformat_minor": 5
}
