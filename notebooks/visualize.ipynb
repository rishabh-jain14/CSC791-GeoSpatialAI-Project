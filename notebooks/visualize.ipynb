{
 "cells": [
  {
   "cell_type": "code",
   "execution_count": null,
   "metadata": {},
   "outputs": [],
   "source": [
    "from glob import glob\n",
    "from pathlib import Path\n",
    "from pydantic import BaseSettings\n",
    "from matplotlib import  pyplot as plt\n",
    "\n",
    "import cv2\n",
    "import numpy as np\n",
    "import rasterio\n",
    "from tqdm import tqdm"
   ]
  },
  {
   "cell_type": "code",
   "execution_count": null,
   "metadata": {},
   "outputs": [],
   "source": [
    "class StatsConfig(BaseSettings):\n",
    "    class Config:\n",
    "        env_file = \".env\"\n",
    "        env_file_encoding = \"utf-8\"\n",
    "    data_processed: Path\n",
    "    subset: str = \"train\""
   ]
  },
  {
   "cell_type": "code",
   "execution_count": null,
   "metadata": {},
   "outputs": [],
   "source": [
    "config = StatsConfig()\n",
    "config"
   ]
  },
  {
   "cell_type": "code",
   "execution_count": null,
   "metadata": {},
   "outputs": [],
   "source": [
    "sar_paths = sorted(list(glob(str(config.data_processed / config.subset / \"*_sar.tif\"))))\n",
    "msk_paths = sorted(list(glob(str(config.data_processed / config.subset / \"*_mask.tif\"))))\n",
    "assert len(sar_paths) > 0 and len(sar_paths) == len(msk_paths), \"Length mismatch between SAR and masks\""
   ]
  },
  {
   "cell_type": "code",
   "execution_count": null,
   "metadata": {},
   "outputs": [],
   "source": [
    "count = 0\n",
    "area = 512 * 512\n",
    "ratios = list()\n",
    "\n",
    "for sar_path, msk_path in tqdm(list(zip(sar_paths, msk_paths))):\n",
    "    sar_name = Path(sar_path).stem\n",
    "    msk_name = Path(msk_path).stem\n",
    "    assert sar_name.split(\"_\")[0] == msk_name.split(\"_\")[0], \"Image ID not matching\"\n",
    "\n",
    "    # read images\n",
    "    with rasterio.open(str(sar_path), \"r\", driver=\"GTiff\") as src:\n",
    "        image = src.read().transpose(1, 2, 0)\n",
    "    with rasterio.open(str(msk_path), \"r\", driver=\"GTiff\") as src:\n",
    "        mask = src.read().transpose(1, 2, 0)\n",
    "    # deal with completely empty images\n",
    "    empty = np.count_nonzero(np.isnan(image))\n",
    "    if empty / float(area) >= 0.75:\n",
    "        count += 1\n",
    "    else:\n",
    "        values, counts = np.unique(mask,return_counts=True)\n",
    "        valid_portion = 0.0 if len(counts) == 1 else (counts[1] / float(area))\n",
    "        ratios.append((sar_path, msk_path, valid_portion))\n",
    "\n",
    "print(f\"with nan: {count} ({float(count) / len(sar_paths) * 100.0:.2f})\")"
   ]
  },
  {
   "cell_type": "code",
   "execution_count": null,
   "metadata": {},
   "outputs": [],
   "source": [
    "sorted_sars = sorted(ratios, key=lambda x: x[-1])"
   ]
  },
  {
   "cell_type": "code",
   "execution_count": null,
   "metadata": {},
   "outputs": [],
   "source": [
    "import seaborn as sns\n",
    "\n",
    "sns.histplot(np.array([x[-1] for x in sorted_sars if x[-1] > 0]),bins=1000)"
   ]
  },
  {
   "cell_type": "code",
   "execution_count": null,
   "metadata": {},
   "outputs": [],
   "source": [
    "def imread(path: Path) -> np.ndarray:\n",
    "    with rasterio.open(str(path), mode=\"r\", driver=\"GTiff\") as dataset:\n",
    "        return dataset.read().transpose(1, 2, 0)"
   ]
  },
  {
   "cell_type": "code",
   "execution_count": null,
   "metadata": {},
   "outputs": [],
   "source": [
    "def log(array: np.ndarray) -> np.ndarray:\n",
    "    return np.maximum(np.zeros_like(array), np.log(array + 1e-6) * 0.21714724095 + 1)"
   ]
  },
  {
   "cell_type": "code",
   "execution_count": null,
   "metadata": {},
   "outputs": [],
   "source": [
    "def rgb_ratio(raw_sar: np.ndarray) -> np.ndarray:\n",
    "    #raw_sar = log(raw_sar)\n",
    "    vv = raw_sar[:,:,0]\n",
    "    vh = raw_sar[:,:,1]\n",
    "    r = vv / 0.28\n",
    "    g = vh / 0.06\n",
    "    b = vh / (vv + 1e-6) / 0.49\n",
    "    rgb = np.stack((r, g, b), axis=-1)\n",
    "    return np.clip(rgb, 0, 1)\n",
    "    #return (rgb - rgb.min()) / (rgb.max() - rgb.min())"
   ]
  },
  {
   "cell_type": "code",
   "execution_count": null,
   "metadata": {},
   "outputs": [],
   "source": [
    "def plot_group(sar_path: Path, mask_path: Path, *args, **kwargs):\n",
    "    fig, axes = plt.subplots(1, 2, figsize=(10, 5))\n",
    "    sar = imread(sar_path)\n",
    "    axes[0].imshow(rgb_ratio(sar))\n",
    "    axes[1].imshow(imread(mask_path))\n",
    "    plt.show()"
   ]
  },
  {
   "cell_type": "code",
   "execution_count": null,
   "metadata": {},
   "outputs": [],
   "source": [
    "plot_group(*sorted_sars[-45])"
   ]
  },
  {
   "cell_type": "code",
   "execution_count": null,
   "metadata": {},
   "outputs": [],
   "source": [
    "def create_circular_mask(h, w, center=None, radius=None):\n",
    "\n",
    "    if center is None: # use the middle of the image\n",
    "        center = (int(w/2), int(h/2))\n",
    "    if radius is None: # use the smallest distance between the center and image walls\n",
    "        radius = min(center[0], center[1], w-center[0], h-center[1])\n",
    "\n",
    "    Y, X = np.ogrid[:h, :w]\n",
    "    dist_from_center = np.sqrt((X - center[0])**2 + (Y-center[1])**2)\n",
    "\n",
    "    mask = dist_from_center <= radius\n",
    "    return mask.astype(np.uint8)"
   ]
  },
  {
   "cell_type": "code",
   "execution_count": null,
   "metadata": {},
   "outputs": [],
   "source": [
    "kernel_a = create_circular_mask(7, 7)\n",
    "kernel_b = create_circular_mask(5, 5)"
   ]
  },
  {
   "cell_type": "code",
   "execution_count": null,
   "metadata": {},
   "outputs": [],
   "source": [
    "mask = imread(sorted_sars[-1][1])\n",
    "\n",
    "fig, axes = plt.subplots(1, 2, figsize=(10, 5))\n",
    "sar = imread(sar_path)\n",
    "axes[0].imshow(mask)\n",
    "m1 = cv2.morphologyEx(mask, cv2.MORPH_OPEN, kernel_b)\n",
    "m2 = cv2.morphologyEx(m1, cv2.MORPH_CLOSE, kernel_a)\n",
    "axes[1].imshow(m2)\n",
    "plt.show()"
   ]
  }
 ],
 "metadata": {
  "interpreter": {
   "hash": "61bd0401774e7981c2ad7ca0754761d58a145d15f3fee780bc248b1d208f4211"
  },
  "kernelspec": {
   "display_name": "Python 3.8.10 64-bit ('.venv': venv)",
   "name": "python3"
  },
  "language_info": {
   "codemirror_mode": {
    "name": "ipython",
    "version": 3
   },
   "file_extension": ".py",
   "mimetype": "text/x-python",
   "name": "python",
   "nbconvert_exporter": "python",
   "pygments_lexer": "ipython3",
   "version": "3.8.10"
  },
  "orig_nbformat": 4
 },
 "nbformat": 4,
 "nbformat_minor": 2
}
